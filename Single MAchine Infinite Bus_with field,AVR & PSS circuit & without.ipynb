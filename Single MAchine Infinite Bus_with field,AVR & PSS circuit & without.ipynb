{
 "cells": [
  {
   "cell_type": "markdown",
   "metadata": {},
   "source": [
    "### Page no 700 to 800 P Kindur, regarding small signal  stability analysis\n",
    "\n",
    "#### code credits S.Naresh Ram, Sr.Engineer\n"
   ]
  },
  {
   "cell_type": "markdown",
   "metadata": {},
   "source": [
    "![title](Blockdiagram.PNG)"
   ]
  },
  {
   "cell_type": "markdown",
   "metadata": {},
   "source": [
    "![title](statematrixfield.PNG)"
   ]
  },
  {
   "cell_type": "markdown",
   "metadata": {},
   "source": [
    "### K1=Synchronizing Coeffcient , depends on operating load angle\n",
    "### K3 & T3=almost constant, depends on system parameter\n",
    "### K4= demagnetising , depends on operating load angle\n",
    "### K2= relation between voltage and flux, depends on Eqo and Iq0"
   ]
  },
  {
   "cell_type": "markdown",
   "metadata": {},
   "source": [
    "![title](Problem1.PNG)"
   ]
  },
  {
   "cell_type": "code",
   "execution_count": 39,
   "metadata": {},
   "outputs": [],
   "source": [
    "\n",
    "\n",
    "import numpy as np\n",
    "import pandas as pd\n",
    "from sympy import sin,cos,nsolve,Symbol,tan,cot\n",
    "from numpy import exp, abs, angle\n",
    "\n",
    "def polar2z(r,theta):\n",
    "    return r * exp( 1j * theta )\n",
    "\n",
    "def z2polar(z):\n",
    "    return ( abs(z), angle(z) )\n",
    "\n",
    "#Given values\n",
    "Xd,X_d,Xq,X_q=complex(0,1.81),complex(0,0.3),complex(0,1.76),0\n",
    "X_line=complex(0,0.65)\n",
    "Xl,Ra,T_do,H=complex(0,0.16),0.003,8,3.5\n",
    "Vref=complex(0.995,0)\n",
    "Vt=complex(0.809,0.5877)\n",
    "P,Q=0.9,0.3 #overexcited\n",
    "L=0.16\n",
    "Ladu,Laqu=1.65,1.60\n",
    "#Initial values\n",
    "Ksd,Ksq=0.8491,0.8491\n",
    "#deltai=43.13\n",
    "#ed0=0.6836\n",
    "#eq0=0.7298\n",
    "#id0=0.8342\n",
    "#iq0=0.4518\n",
    "delta0=79.13\n",
    "#Efd0=2.395\n",
    "Ksd_incr,Ksq_incr=0.434,0.434\n"
   ]
  },
  {
   "cell_type": "code",
   "execution_count": 40,
   "metadata": {},
   "outputs": [
    {
     "name": "stdout",
     "output_type": "stream",
     "text": [
      "\n",
      " Phi 18.4442992966228\n",
      "\n",
      " compleximpedance\n",
      " (0.003+1.51856j)\n",
      "\n",
      " current flowing in the line\n",
      "  (0.9045255169537701+0.2862665591022629j)\n",
      "internal machine voltage (0.377000630560529+1.962135068702624j)\n",
      "\n",
      " loadangle 79.16398409330476\n"
     ]
    }
   ],
   "source": [
    "Phi=np.angle(complex(P,Q))*180/3.14\n",
    "print('\\n Phi',Phi)\n",
    "I=np.conjugate(np.divide(complex(P,Q),Vt))\n",
    "Xds=Ksd*Ladu+L\n",
    "Xqs=Ksq*Laqu+L\n",
    "Z=complex(Ra,Xqs)\n",
    "print('\\n compleximpedance\\n',Z)\n",
    "E=Vt+I*Z\n",
    "print('\\n current flowing in the line\\n ',I)\n",
    "print('internal machine voltage',E)\n",
    "load_angle=np.angle(E)*180/3.14\n",
    "print('\\n loadangle',load_angle)\n"
   ]
  },
  {
   "cell_type": "code",
   "execution_count": 41,
   "metadata": {},
   "outputs": [],
   "source": [
    "K1,K2,K3,K4=0.7643,0.8649,0.3230,1.4187\n",
    "T3=2.365\n",
    "KD=2"
   ]
  },
  {
   "cell_type": "code",
   "execution_count": 42,
   "metadata": {},
   "outputs": [
    {
     "name": "stdout",
     "output_type": "stream",
     "text": [
      "\n",
      " State_Matrix A\n",
      " [[-2.85714286e-01 -1.09185714e-01 -1.23557143e-01]\n",
      " [ 3.76800000e+02  0.00000000e+00  0.00000000e+00]\n",
      " [ 0.00000000e+00 -1.93759027e-01 -4.22832981e-01]]\n"
     ]
    }
   ],
   "source": [
    "A=np.array([[-KD/(2*H),-K1/(2*H),-K2/(2*H)],[2*3.14*60,0,0],[0,-K3*K4/T3,-1/T3]])\n",
    "print('\\n State_Matrix A\\n',A)"
   ]
  },
  {
   "cell_type": "code",
   "execution_count": 43,
   "metadata": {},
   "outputs": [
    {
     "name": "stdout",
     "output_type": "stream",
     "text": [
      "\n",
      " Eigen values\n",
      " [-0.2525329 +6.41057269j -0.2525329 -6.41057269j -0.20348146+0.j        ]\n",
      "\n",
      " Right eigen vector\n",
      " [[-6.69801402e-04+0.01700297j -6.69801402e-04-0.01700297j\n",
      "   4.04735672e-04+0.j        ]\n",
      " [ 9.99399142e-01+0.j          9.99399142e-01-0.j\n",
      "  -7.49475668e-01+0.j        ]\n",
      " [-8.01891701e-04+0.03018545j -8.01891701e-04-0.03018545j\n",
      "   6.62031766e-01+0.j        ]]\n",
      "\n",
      " Left eigen vector\n",
      " [[-1.00615177e+00-2.93989204e+01j  5.00081027e-01-1.97067565e-02j\n",
      "   5.66748918e-01-4.33656333e-03j]\n",
      " [-1.00615177e+00+2.93989204e+01j  5.00081027e-01+1.97067565e-02j\n",
      "   5.66748918e-01+4.33656333e-03j]\n",
      " [-2.68333520e+00+1.24905083e-17j -5.85611046e-04+2.72592839e-21j\n",
      "   1.51147904e+00-9.14023852e-18j]]\n",
      "\n",
      " participation factor\n",
      " [[[ 5.00543021e-01+2.58386504e-03j -6.70028454e-04-8.48966541e-03j\n",
      "    2.29383504e-04-1.75516187e-06j]]\n",
      "\n",
      " [[-4.99195177e-01-3.67990112e-02j  1.18508840e-07-8.51606463e-03j\n",
      "    2.29383504e-04+1.75516187e-06j]]\n",
      "\n",
      " [[ 2.15174423e-03-8.09976898e-02j  4.69596638e-07+1.76769350e-05j\n",
      "    1.00064714e+00-6.05112825e-18j]]]\n"
     ]
    }
   ],
   "source": [
    "w,V=np.linalg.eig(A)\n",
    "print('\\n Eigen values\\n',w)\n",
    "print('\\n Right eigen vector\\n',V)\n",
    "L=np.linalg.inv(V)\n",
    "print('\\n Left eigen vector\\n',L)\n",
    "p=np.array([[L[:][0]*V[:][0]],[L[:][1]*V[:][0]],[L[:][2]*V[:][2]]])\n",
    "print('\\n participation factor\\n',p)"
   ]
  },
  {
   "cell_type": "code",
   "execution_count": 44,
   "metadata": {},
   "outputs": [
    {
     "name": "stdout",
     "output_type": "stream",
     "text": [
      "\n",
      " initial value [[0.  ]\n",
      " [0.09]\n",
      " [0.  ]]\n",
      "\n",
      " C \n",
      " [[ 4.50072924e-02-1.77360809e-03j]\n",
      " [ 4.50072924e-02+1.77360809e-03j]\n",
      " [-5.27049941e-05+2.45333555e-22j]]\n",
      "\n",
      " K values\n",
      " (0.04498024944467663-0.0017725424023342412j)\n",
      "\n",
      " time response of load angle deviation\n",
      "\n"
     ]
    },
    {
     "name": "stderr",
     "output_type": "stream",
     "text": [
      "C:\\ProgramData\\Anaconda3\\lib\\site-packages\\numpy\\core\\numeric.py:492: ComplexWarning: Casting complex values to real discards the imaginary part\n",
      "  return array(a, dtype, copy=False, order=order)\n"
     ]
    },
    {
     "data": {
      "image/png": "[encoded data removed]",
      "text/plain": [
       "<Figure size 432x288 with 1 Axes>"
      ]
     },
     "metadata": {},
     "output_type": "display_data"
    }
   ],
   "source": [
    "initial_value=np.matrix([[0.],\n",
    "               [0.09],\n",
    "               [0]])\n",
    "print('\\n initial value',initial_value)\n",
    "C=L*initial_value\n",
    "print('\\n C \\n',C)\n",
    "t = np.arange(0,4*np.pi,0.01)\n",
    "K=np.array([C[0]*V[1][0],C[1]*V[1][1],C[2]*V[1][2]])\n",
    "Y=K.flatten()\n",
    "print('\\n K values\\n',Y[0])\n",
    "\n",
    "import matplotlib.pyplot as plt\n",
    "print('\\n time response of load angle deviation\\n')\n",
    "plt.plot(t,Y[0]*np.exp(w[0]*t)+Y[1]*np.exp(w[1]*t)+Y[2]*np.exp(w[2]*t))\n",
    "plt.ylabel('load deviation')\n",
    "plt.show()"
   ]
  },
  {
   "cell_type": "markdown",
   "metadata": {},
   "source": [
    "# field dynamics removed"
   ]
  },
  {
   "cell_type": "code",
   "execution_count": 45,
   "metadata": {},
   "outputs": [],
   "source": [
    "# state matrix"
   ]
  },
  {
   "cell_type": "code",
   "execution_count": 46,
   "metadata": {},
   "outputs": [
    {
     "name": "stdout",
     "output_type": "stream",
     "text": [
      "\n",
      " State_Matrix A\n",
      " [[-2.85714286e-01 -1.09185714e-01]\n",
      " [ 3.76800000e+02  0.00000000e+00]]\n"
     ]
    }
   ],
   "source": [
    "A=np.array([[-KD/(2*H),-K1/(2*H)],[2*3.14*60,0]])\n",
    "print('\\n State_Matrix A\\n',A)"
   ]
  },
  {
   "cell_type": "code",
   "execution_count": 47,
   "metadata": {},
   "outputs": [
    {
     "name": "stdout",
     "output_type": "stream",
     "text": [
      "\n",
      " Eigen values\n",
      " [-0.14285714+6.41254778j -0.14285714-6.41254778j]\n",
      "\n",
      " Right eigen vector\n",
      " [[-3.79077626e-04+0.01701597j -3.79077626e-04-0.01701597j]\n",
      " [ 9.99855146e-01+0.j          9.99855146e-01-0.j        ]]\n",
      "\n",
      " Left eigen vector\n",
      " [[0.        -2.93841545e+01j 0.50007244-1.11404893e-02j]\n",
      " [0.        +2.93841545e+01j 0.50007244+1.11404893e-02j]]\n",
      "\n",
      " participation factor\n",
      " [[[ 5.00000000e-01+0.01113888j -3.79132545e-04-0.008505j  ]]\n",
      "\n",
      " [[-5.00000000e-01-0.01113888j  0.00000000e+00-0.00851344j]]]\n"
     ]
    }
   ],
   "source": [
    "w,V=np.linalg.eig(A)\n",
    "print('\\n Eigen values\\n',w)\n",
    "print('\\n Right eigen vector\\n',V)\n",
    "L=np.linalg.inv(V)\n",
    "print('\\n Left eigen vector\\n',L)\n",
    "p=np.array([[L[:][0]*V[:][0]],[L[:][1]*V[:][0]]])\n",
    "print('\\n participation factor\\n',p)"
   ]
  },
  {
   "cell_type": "code",
   "execution_count": 48,
   "metadata": {},
   "outputs": [
    {
     "name": "stdout",
     "output_type": "stream",
     "text": [
      "\n",
      " initial value [[0.  ]\n",
      " [0.09]]\n",
      "\n",
      " C \n",
      " [[0.04500652-0.00100264j]\n",
      " [0.04500652+0.00100264j]]\n",
      "\n",
      " K values\n",
      " (0.045-0.0010024987965973292j)\n",
      "\n",
      " time response of load angle deviation\n",
      "\n"
     ]
    },
    {
     "name": "stderr",
     "output_type": "stream",
     "text": [
      "C:\\ProgramData\\Anaconda3\\lib\\site-packages\\numpy\\core\\numeric.py:492: ComplexWarning: Casting complex values to real discards the imaginary part\n",
      "  return array(a, dtype, copy=False, order=order)\n"
     ]
    },
    {
     "data": {
      "image/png": "[encoded data removed]",
      "text/plain": [
       "<Figure size 432x288 with 1 Axes>"
      ]
     },
     "metadata": {},
     "output_type": "display_data"
    }
   ],
   "source": [
    "initial_value=np.matrix([[0.],\n",
    "               [0.09]])\n",
    "print('\\n initial value',initial_value)\n",
    "C=L*initial_value\n",
    "print('\\n C \\n',C)\n",
    "t = np.arange(0,4*np.pi,0.01)\n",
    "K=np.array([C[0]*V[1][0],C[1]*V[1][1]])\n",
    "Y=K.flatten()\n",
    "print('\\n K values\\n',Y[0])\n",
    "\n",
    "import matplotlib.pyplot as plt\n",
    "print('\\n time response of load angle deviation\\n')\n",
    "plt.plot(t,Y[0]*np.exp(w[0]*t)+Y[1]*np.exp(w[1]*t))\n",
    "plt.ylabel('load deviation')\n",
    "plt.show()"
   ]
  },
  {
   "cell_type": "markdown",
   "metadata": {},
   "source": [
    "![title!](AVR1.jpg)"
   ]
  },
  {
   "cell_type": "markdown",
   "metadata": {},
   "source": [
    "# with AVR"
   ]
  },
  {
   "cell_type": "code",
   "execution_count": 49,
   "metadata": {},
   "outputs": [],
   "source": [
    "K1,K2,K3,K4=0.7643,0.8649,0.3230,1.4187\n",
    "T3=2.365\n",
    "KD=2\n",
    "KA=200\n",
    "TR=0.02\n",
    "K5,K6=-0.1463,0.4168"
   ]
  },
  {
   "cell_type": "code",
   "execution_count": 50,
   "metadata": {},
   "outputs": [
    {
     "name": "stdout",
     "output_type": "stream",
     "text": [
      "\n",
      " State_Matrix A\n",
      " [[-2.85714286e-01 -1.09185714e-01 -1.23557143e-01  0.00000000e+00]\n",
      " [ 3.76800000e+02  0.00000000e+00  0.00000000e+00  0.00000000e+00]\n",
      " [ 0.00000000e+00 -1.93759027e-01 -4.22832981e-01 -2.73150106e+01]\n",
      " [ 0.00000000e+00 -7.31500000e+00  2.08400000e+01 -5.00000000e+01]]\n",
      "\n",
      " Eigen values\n",
      " [  0.36907426+7.23527384j   0.36907426-7.23527384j\n",
      " -31.22485294+0.j         -20.22184284+0.j        ]\n",
      "\n",
      " Right eigen vector\n",
      " [[ 9.39198586e-04+0.0184119j  9.39198586e-04-0.0184119j\n",
      "   2.53982720e-03+0.j        -4.53544931e-03+0.j       ]\n",
      " [ 9.58858607e-01+0.j         9.58858607e-01-0.j\n",
      "  -3.06488838e-02+0.j         8.45104630e-02+0.j       ]\n",
      " [ 2.25859165e-01-0.1525712j  2.25859165e-01+0.1525712j\n",
      "   6.63065560e-01+0.j        -8.06482195e-01+0.j       ]\n",
      " [-5.37631648e-02-0.0554029j -5.37631648e-02+0.0554029j\n",
      "   7.47929314e-01+0.j        -5.85169958e-01+0.j       ]]\n",
      "\n",
      " Left eigen vector\n",
      " [[  0.60813347-2.56600566e+01j   0.49377849-3.29137444e-02j\n",
      "    0.09849996+2.20354224e-01j  -0.06915456-1.09563772e-01j]\n",
      " [  0.60813347+2.56600566e+01j   0.49377849+3.29137444e-02j\n",
      "    0.09849996-2.20354224e-01j  -0.06915456+1.09563772e-01j]\n",
      " [ -9.64433177+2.37911971e-15j   0.7918984 +7.40102547e-17j\n",
      "   -2.46734203-2.49078800e-17j   3.58961096+1.64094215e-17j]\n",
      " [-17.29745609+2.72118046e-15j   0.9151919 +1.02591826e-16j\n",
      "   -3.12998339-2.88274943e-17j   2.87108194+1.98913946e-17j]]\n",
      "\n",
      " participation factor\n",
      " [[[ 4.73021600e-01-0.012903j   -1.42248569e-04-0.00912231j\n",
      "    2.50172874e-04+0.00055966j  3.13647014e-04+0.00049692j]]\n",
      "\n",
      " [[-4.71879284e-01+0.03529678j  1.06976069e-03-0.00906049j\n",
      "    2.50172874e-04-0.00055966j  3.13647014e-04-0.00049692j]]]\n",
      "\n",
      " initial value [[0.  ]\n",
      " [0.09]\n",
      " [0.  ]\n",
      " [0.  ]]\n",
      "\n",
      " C \n",
      " [[0.04444006-2.96223699e-03j]\n",
      " [0.04444006+2.96223699e-03j]\n",
      " [0.07127086+6.66092292e-18j]\n",
      " [0.08236727+9.23326436e-18j]]\n",
      "\n",
      " K values\n",
      " (0.04261173798522495-0.0028403664369138363j)\n",
      "\n",
      " time response of load angle deviation\n",
      "\n"
     ]
    },
    {
     "name": "stderr",
     "output_type": "stream",
     "text": [
      "C:\\ProgramData\\Anaconda3\\lib\\site-packages\\numpy\\core\\numeric.py:492: ComplexWarning: Casting complex values to real discards the imaginary part\n",
      "  return array(a, dtype, copy=False, order=order)\n"
     ]
    },
    {
     "data": {
      "image/png": "[encoded data removed]",
      "text/plain": [
       "<Figure size 432x288 with 1 Axes>"
      ]
     },
     "metadata": {},
     "output_type": "display_data"
    }
   ],
   "source": [
    "A=np.array([[-KD/(2*H),-K1/(2*H),-K2/(2*H),0],[2*3.14*60,0,0,0],[0,-K3*K4/T3,-1/T3,-K3*KA/T3],[0,K5/TR,K6/TR,-1/TR]])\n",
    "print('\\n State_Matrix A\\n',A)\n",
    "w,V=np.linalg.eig(A)\n",
    "print('\\n Eigen values\\n',w)\n",
    "print('\\n Right eigen vector\\n',V)\n",
    "L=np.linalg.inv(V)\n",
    "print('\\n Left eigen vector\\n',L)\n",
    "p=np.array([[L[:][0]*V[:][0]],[L[:][1]*V[:][0]]])\n",
    "print('\\n participation factor\\n',p)\n",
    "initial_value=np.matrix([[0.0],\n",
    "               [0.09],[0],[0]])\n",
    "print('\\n initial value',initial_value)\n",
    "C=L*initial_value\n",
    "print('\\n C \\n',C)\n",
    "t = np.arange(0,4*np.pi,0.01)\n",
    "K=np.array([C[0]*V[1][0],C[1]*V[1][1]])\n",
    "Y=K.flatten()\n",
    "print('\\n K values\\n',Y[0])\n",
    "\n",
    "import matplotlib.pyplot as plt\n",
    "print('\\n time response of load angle deviation\\n')\n",
    "plt.plot(t,Y[0]*np.exp(w[0]*t)+Y[1]*np.exp(w[1]*t))\n",
    "plt.ylabel('load deviation')\n",
    "plt.show()"
   ]
  },
  {
   "cell_type": "markdown",
   "metadata": {},
   "source": [
    "# result is shocked!, yes AVR damps first few cycles and possible to have negative damping in remaing cycles"
   ]
  },
  {
   "cell_type": "markdown",
   "metadata": {},
   "source": [
    "# its the time to PSS now"
   ]
  },
  {
   "cell_type": "code",
   "execution_count": 51,
   "metadata": {},
   "outputs": [],
   "source": [
    "K1,K2,K3,K4=0.7643,0.8649,0.3230,1.4187\n",
    "T3=2.365\n",
    "KD=2\n",
    "KA=200\n",
    "TR=0.02\n",
    "K5,K6=-0.1463,0.4168\n",
    "KSTAB=9.5\n",
    "TW=1.4\n",
    "T1,T2=0.154,0.033"
   ]
  },
  {
   "cell_type": "code",
   "execution_count": 52,
   "metadata": {},
   "outputs": [
    {
     "name": "stdout",
     "output_type": "stream",
     "text": [
      "\n",
      " State_Matrix A\n",
      " [[-2.85714286e-01 -1.09185714e-01 -1.23557143e-01  0.00000000e+00\n",
      "   0.00000000e+00  0.00000000e+00]\n",
      " [ 3.76800000e+02  0.00000000e+00  0.00000000e+00  0.00000000e+00\n",
      "   0.00000000e+00  0.00000000e+00]\n",
      " [ 0.00000000e+00 -1.93759027e-01 -4.22832981e-01 -2.73150106e+01\n",
      "   0.00000000e+00  2.73150106e+01]\n",
      " [ 0.00000000e+00 -7.31500000e+00  2.08400000e+01 -5.00000000e+01\n",
      "   0.00000000e+00  0.00000000e+00]\n",
      " [-2.71428571e+00 -1.03726429e+00 -1.17379286e+00  0.00000000e+00\n",
      "  -7.14285714e-01  0.00000000e+00]\n",
      " [-1.26666667e+01 -4.84056667e+00 -5.47770000e+00  0.00000000e+00\n",
      "   2.69696970e+01 -3.03030303e+01]]\n",
      "\n",
      " Eigen values\n",
      " [-39.11517705 +0.j          -1.12325708 +6.56814561j\n",
      "  -1.12325708 -6.56814561j  -0.73890044 +0.j\n",
      " -19.81263582+12.90040806j -19.81263582-12.90040806j]\n",
      "\n",
      " Right eigen vector\n",
      " [[ 0.00138374+0.j         -0.00273283+0.01597995j -0.00273283-0.01597995j\n",
      "  -0.0012068 +0.j         -0.00364177-0.00207396j -0.00364177+0.00207396j]\n",
      " [-0.01332969+0.j          0.9167345 +0.j          0.9167345 -0.j\n",
      "   0.61540201+0.j          0.03060322+0.05936926j  0.03060322-0.05936926j]\n",
      " [ 0.44663775+0.j          0.02084443+0.25359511j  0.02084443-0.25359511j\n",
      "  -0.54824844+0.j         -0.81912595+0.j         -0.81912595-0.j        ]\n",
      " [ 0.8640873 +0.j         -0.1117642 +0.12314662j -0.1117642 -0.12314662j\n",
      "  -0.32332131+0.j         -0.489633  +0.19485568j -0.489633  -0.19485568j]\n",
      " [ 0.01339004+0.j         -0.04258248+0.15002109j -0.04258248-0.15002109j\n",
      "  -0.34415054+0.j         -0.03514353-0.02080879j -0.03514353+0.02080879j]\n",
      " [ 0.23132005+0.j         -0.16677512+0.12165605j -0.16677512-0.12165605j\n",
      "  -0.31261206+0.j          0.09204792-0.19158223j  0.09204792+0.19158223j]]\n",
      "\n",
      " Left eigen vector\n",
      " [[-2.77369530e+00-2.05576084e-15j  3.22865562e-01-1.60606316e-17j\n",
      "  -4.18380962e-01+9.63637893e-17j  1.04990963e+00-2.93106526e-16j\n",
      "  -9.10806934e-01-1.60606316e-16j  1.29685543e+00-3.35265684e-16j]\n",
      " [-9.91629413e+00-3.08043510e+01j  5.69474193e-01-1.01027310e-01j\n",
      "   7.98646982e-02+2.66066804e-01j -6.34682465e-02-1.40163777e-01j\n",
      "   8.72387788e-01-5.65593236e-01j  1.24514454e-01+2.21036279e-01j]\n",
      " [-9.91629413e+00+3.08043510e+01j  5.69474193e-01+1.01027310e-01j\n",
      "   7.98646982e-02-2.66066804e-01j -6.34682465e-02+1.40163777e-01j\n",
      "   8.72387788e-01+5.65593236e-01j  1.24514454e-01-2.21036279e-01j]\n",
      " [ 2.92031994e+01-4.87453250e-16j -5.74795058e-02+1.24569451e-16j\n",
      "   3.07884940e-03-1.62177096e-15j -1.70720517e-03+1.62121527e-15j\n",
      "  -3.11677727e+00+4.50375006e-15j  2.84462301e-03+3.23989481e-15j]\n",
      " [-1.24472875e+00-2.09471548e+00j  1.53027621e-01+1.16245842e-01j\n",
      "  -8.05840493e-01+8.80745630e-01j  3.28587453e-01-9.37362012e-01j\n",
      "   9.92032870e-01-2.06938263e+00j  2.87348031e-01+1.93993366e+00j]\n",
      " [-1.24472875e+00+2.09471548e+00j  1.53027621e-01-1.16245842e-01j\n",
      "  -8.05840493e-01-8.80745630e-01j  3.28587453e-01+9.37362012e-01j\n",
      "   9.92032870e-01+2.06938263e+00j  2.87348031e-01-1.93993366e+00j]]\n",
      "\n",
      " participation factor\n",
      " [[[-3.83807252e-03-2.84463805e-18j -8.82335131e-04+5.15937599e-03j\n",
      "    1.14336202e-03+6.68570745e-03j -1.26702696e-03+3.53719846e-19j\n",
      "    3.31694762e-03+1.88897552e-03j -4.72284673e-03+2.68962398e-03j]]\n",
      "\n",
      " [[-1.37215707e-02-4.26252058e-02j  5.81381006e-05+9.37625993e-03j\n",
      "    4.03347834e-03-2.00334805e-03j  7.65932396e-05+1.69149115e-04j\n",
      "   -4.35005074e-03+2.50463577e-04j -9.11872772e-04-5.46725091e-04j]]]\n",
      "\n",
      " initial value [[0.  ]\n",
      " [0.09]\n",
      " [0.  ]\n",
      " [0.  ]\n",
      " [0.  ]\n",
      " [0.  ]]\n",
      "\n",
      " C \n",
      " [[ 0.0290579 -1.44545684e-18j]\n",
      " [ 0.05125268-9.09245789e-03j]\n",
      " [ 0.05125268+9.09245789e-03j]\n",
      " [-0.00517316+1.12112506e-17j]\n",
      " [ 0.01377249+1.04621258e-02j]\n",
      " [ 0.01377249-1.04621258e-02j]]\n",
      "\n",
      " K values\n",
      " (-0.00038733277988056117+1.9267490272949947e-20j)\n",
      "\n",
      " time response of load angle deviation\n",
      "\n"
     ]
    },
    {
     "name": "stderr",
     "output_type": "stream",
     "text": [
      "C:\\ProgramData\\Anaconda3\\lib\\site-packages\\numpy\\core\\numeric.py:492: ComplexWarning: Casting complex values to real discards the imaginary part\n",
      "  return array(a, dtype, copy=False, order=order)\n"
     ]
    },
    {
     "data": {
      "image/png": "[encoded data removed]",
      "text/plain": [
       "<Figure size 432x288 with 1 Axes>"
      ]
     },
     "metadata": {},
     "output_type": "display_data"
    }
   ],
   "source": [
    "A=np.array([[-KD/(2*H),-K1/(2*H),-K2/(2*H),0,0,0],[2*3.14*60,0,0,0,0,0],[0,-K3*K4/T3,-1/T3,-K3*KA/T3,0,K3*KA/T3],\n",
    "            [0,K5/TR,K6/TR,-1/TR,0,0],[-(KD*KSTAB)/(2*H),KSTAB*(-K1/(2*H)),KSTAB*(-K2/(2*H)),0,-1/TW,0],\n",
    "[(-T1/T2)*((KD*KSTAB)/(2*H)),(-T1/T2)*(KSTAB*(K1/(2*H))),(T1/T2)*(KSTAB*(-K2/(2*H))),0,(T1/T2)*(-1/TW)+(1/T2),-1/T2]])\n",
    "print('\\n State_Matrix A\\n',A)\n",
    "w,V=np.linalg.eig(A)\n",
    "print('\\n Eigen values\\n',w)\n",
    "print('\\n Right eigen vector\\n',V)\n",
    "L=np.linalg.inv(V)\n",
    "print('\\n Left eigen vector\\n',L)\n",
    "p=np.array([[L[:][0]*V[:][0]],[L[:][1]*V[:][0]]])\n",
    "print('\\n participation factor\\n',p)\n",
    "initial_value=np.matrix([[0.0],\n",
    "               [0.09],[0],[0],[0],[0]])\n",
    "print('\\n initial value',initial_value)\n",
    "C=L*initial_value\n",
    "print('\\n C \\n',C)\n",
    "t = np.arange(0,4*np.pi,0.01)\n",
    "K=np.array([C[0]*V[1][0],C[1]*V[1][1]])\n",
    "Y=K.flatten()\n",
    "print('\\n K values\\n',Y[0])\n",
    "\n",
    "import matplotlib.pyplot as plt\n",
    "print('\\n time response of load angle deviation\\n')\n",
    "plt.plot(t,Y[0]*np.exp(w[0]*t)+Y[1]*np.exp(w[1]*t))\n",
    "plt.ylabel('load deviation')\n",
    "plt.show()"
   ]
  },
  {
   "cell_type": "code",
   "execution_count": null,
   "metadata": {},
   "outputs": [],
   "source": []
  },
  {
   "cell_type": "code",
   "execution_count": null,
   "metadata": {},
   "outputs": [],
   "source": []
  },
  {
   "cell_type": "code",
   "execution_count": null,
   "metadata": {},
   "outputs": [],
   "source": []
  }
 ],
 "metadata": {
  "kernelspec": {
   "display_name": "Python 3",
   "language": "python",
   "name": "python3"
  },
  "language_info": {
   "codemirror_mode": {
    "name": "ipython",
    "version": 3
   },
   "file_extension": ".py",
   "mimetype": "text/x-python",
   "name": "python",
   "nbconvert_exporter": "python",
   "pygments_lexer": "ipython3",
   "version": "3.6.5"
  }
 },
 "nbformat": 4,
 "nbformat_minor": 2
}
